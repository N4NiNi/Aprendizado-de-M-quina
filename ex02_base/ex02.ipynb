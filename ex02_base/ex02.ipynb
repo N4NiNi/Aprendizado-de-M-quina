{
 "cells": [
  {
   "cell_type": "markdown",
   "metadata": {},
   "source": [
    "# <center> <img src=\"figs/LogoUFSCar.jpg\" alt=\"Logo UFScar\" width=\"110\" align=\"left\"/>  <br/> <center>Universidade Federal de São Carlos (UFSCar)<br/><font size=\"4\"> Departamento de Computação, campus Sorocaba</center></font>\n",
    "</p>\n",
    "\n",
    "<br/>\n",
    "<font size=\"4\"><center><b>Disciplina: Aprendizado de Máquina</b></center></font>\n",
    "  \n",
    "<font size=\"3\"><center>Prof. Dr. Tiago A. Almeida</center></font>\n",
    "\n",
    "<br/>\n",
    "<br/>\n",
    "\n",
    "<center><i><b>\n",
    "Atenção: não são autorizadas cópias, divulgações ou qualquer tipo de uso deste material sem o consentimento prévio dos autores.\n",
    "</center></i></b>"
   ]
  },
  {
   "cell_type": "markdown",
   "metadata": {},
   "source": [
    "# <center>Exercício - $k$-vizinhos mais próximos</center>\n",
    "\n",
    "Instruções\n",
    "----------\n",
    "\n",
    "Este arquivo contém o código que auxiliará no desenvolvimento do exercício. Você precisará completar as seguintes funções:\n",
    "\n",
    "* <tt>normalizacao()</tt>\n",
    "* <tt>distancia()</tt>\n",
    "* <tt>knn()</tt>\n",
    "\n",
    "Você não poderá criar nenhuma outra função e nem importar outras bibliotecas. Apenas complete as rotinas fornecidas."
   ]
  },
  {
   "cell_type": "markdown",
   "metadata": {},
   "source": [
    "## Introdução\n",
    "\n",
    "Você foi contratado por uma grande empresa de cosméticos para desenvolver um método para classificar diferentes espécies de uma flor. Essencialmente, a empresa está interessada em separar automaticamente espécies de uma flor chamada Iris. Esse tipo de flor é composta por três espécies: **Setosa**, **Virginica** e **Versicolour**, apresentadas na Figura 1. As duas primeiras (Setosa e Virginica) possuem propriedades aromáticas de interesse da empresa, já a última (Versicolour) não pode ser utilizada.\n",
    "\n",
    "Devido à forte semelhança visual entre elas, ocorreu a ideia de que, talvez, seja possível detectar cada espécie pelas medidas de comprimento e largura das pétalas. Com base nessa informação, a empresa criou duas base de dados pré-classificadas (Setosa + Versicolour e Virginica + Versicolour) com as respectivas medidas das pétalas das flores. A sua função é implementar o método do $K$-vizinhos mais próximos para determinar a espécie de uma Iris a partir dos dados das pétalas.\n",
    "\n",
    "<br>\n",
    "<br>\n",
    "\n",
    "<center>\n",
    "<div style=\"display:inline-block;\">\n",
    "    <div>\n",
    "    <div style=\"padding: 5px; float: left;\">\n",
    "        <img src=\"figs/iris_setosa.jpeg\" style=\"height:180px;\"/>\n",
    "        <center><em>(a) Setosa</em></center>\n",
    "    </div>\n",
    "    <div style=\"padding: 5px; float: left;\">\n",
    "        <img src=\"figs/iris_virginica.jpeg\"  style=\"height:180px;\"/> \n",
    "        <center><em>(b) Virginica</em></center>\n",
    "    </div>\n",
    "    <div style=\"padding: 5px; float: left;\">\n",
    "        <img src=\"figs/iris_versicolour.jpeg\"  style=\"height:180px;\"/>\n",
    "        <center><em>(c) Versicolour</em></center>\n",
    "    </div>\n",
    "    </div>\n",
    "    <center><em>Figura 1. Espécies de Iris.</em></center>\n",
    "</div> \n",
    "</center>\n",
    "\n"
   ]
  },
  {
   "cell_type": "markdown",
   "metadata": {},
   "source": [
    "## Parte 1: Visualização dos dados\n",
    "\n",
    "Muitas vezes, a visualização dos dados auxilia na interpretação dos mesmos\n",
    "e como eles estão distribuídos. Nesta etapa, você precisa completar a\n",
    "função de normalização dos atributos ( <tt>normalizacao()</tt> )."
   ]
  },
  {
   "cell_type": "markdown",
   "metadata": {
    "nbpresent": {
     "id": "0e361691-e033-496b-9343-16330fd7b7ae"
    }
   },
   "source": [
    "Primeiro, vamos carregar os dados do arquivo."
   ]
  },
  {
   "cell_type": "code",
   "execution_count": 1,
   "metadata": {
    "nbpresent": {
     "id": "b274d631-4f72-4234-89ec-444cfe36a1ac"
    }
   },
   "outputs": [
    {
     "name": "stdout",
     "output_type": "stream",
     "text": [
      "Dados carregados com sucesso!\n"
     ]
    }
   ],
   "source": [
    "# -*- coding: utf-8 -*-\n",
    "\n",
    "# Caminho dos arquivos\n",
    "FILES_DIRECTORY = 'dados'\n",
    "\n",
    "import numpy as np #importa a biblioteca usada para trabalhar com vetores e matrizes\n",
    "import pandas as pd #importa a biblioteca usada para trabalhar com dataframes (dados em formato de tabela) e análise de dados\n",
    "import os # importa a biblioteca para tarefas relacionadas ao sistema operacional\n",
    "\n",
    "if __name__ == '__main__':\n",
    "    # Importa o arquivo e guarda em um dataframe do Pandas\n",
    "    df_dataset = pd.read_csv(os.path.join(FILES_DIRECTORY, 'dados.csv'), sep=',', index_col=None)\n",
    "\n",
    "    print('Dados carregados com sucesso!')"
   ]
  },
  {
   "cell_type": "markdown",
   "metadata": {
    "nbpresent": {
     "id": "95683e28-4b7b-4d28-9aee-9b6abf68f3e2"
    }
   },
   "source": [
    "Agora, vamos dar uma olhada nas cinco primeiras amostras da base de dados."
   ]
  },
  {
   "cell_type": "code",
   "execution_count": 2,
   "metadata": {
    "nbpresent": {
     "id": "e6fc786d-681a-4f29-9932-e46534412e22"
    }
   },
   "outputs": [
    {
     "data": {
      "text/html": [
       "<div>\n",
       "<style scoped>\n",
       "    .dataframe tbody tr th:only-of-type {\n",
       "        vertical-align: middle;\n",
       "    }\n",
       "\n",
       "    .dataframe tbody tr th {\n",
       "        vertical-align: top;\n",
       "    }\n",
       "\n",
       "    .dataframe thead th {\n",
       "        text-align: right;\n",
       "    }\n",
       "</style>\n",
       "<table border=\"1\" class=\"dataframe\">\n",
       "  <thead>\n",
       "    <tr style=\"text-align: right;\">\n",
       "      <th></th>\n",
       "      <th>largura_petala</th>\n",
       "      <th>comprimento_petala</th>\n",
       "      <th>classe</th>\n",
       "    </tr>\n",
       "  </thead>\n",
       "  <tbody>\n",
       "    <tr>\n",
       "      <th>0</th>\n",
       "      <td>4.9</td>\n",
       "      <td>3.1</td>\n",
       "      <td>0</td>\n",
       "    </tr>\n",
       "    <tr>\n",
       "      <th>1</th>\n",
       "      <td>4.4</td>\n",
       "      <td>3.0</td>\n",
       "      <td>0</td>\n",
       "    </tr>\n",
       "    <tr>\n",
       "      <th>2</th>\n",
       "      <td>5.7</td>\n",
       "      <td>4.4</td>\n",
       "      <td>0</td>\n",
       "    </tr>\n",
       "    <tr>\n",
       "      <th>3</th>\n",
       "      <td>5.5</td>\n",
       "      <td>4.2</td>\n",
       "      <td>0</td>\n",
       "    </tr>\n",
       "    <tr>\n",
       "      <th>4</th>\n",
       "      <td>4.9</td>\n",
       "      <td>3.1</td>\n",
       "      <td>0</td>\n",
       "    </tr>\n",
       "  </tbody>\n",
       "</table>\n",
       "</div>"
      ],
      "text/plain": [
       "   largura_petala  comprimento_petala  classe\n",
       "0             4.9                 3.1       0\n",
       "1             4.4                 3.0       0\n",
       "2             5.7                 4.4       0\n",
       "3             5.5                 4.2       0\n",
       "4             4.9                 3.1       0"
      ]
     },
     "metadata": {},
     "output_type": "display_data"
    }
   ],
   "source": [
    "if __name__ == '__main__':\n",
    "    # vamos usar a função display para imprimir o dataframe. \n",
    "    # Obs: poderíamos ter usado a função print: print(df_dataset.head(n=5))\n",
    "    display(df_dataset.head(n=5))"
   ]
  },
  {
   "cell_type": "markdown",
   "metadata": {
    "nbpresent": {
     "id": "07098e60-68cd-4f31-b0ca-f88203ab61b2"
    }
   },
   "source": [
    "Agora, vamos guardar os dados dentro de uma matriz e as classes dentro de um vetor. As cinco primeiras linhas da matriz de dados e do vetor de classes serão exibidos."
   ]
  },
  {
   "cell_type": "code",
   "execution_count": 3,
   "metadata": {
    "nbpresent": {
     "id": "66b4b9cc-ebb3-4d13-af8a-63d12cb23725"
    }
   },
   "outputs": [
    {
     "data": {
      "text/plain": [
       "'X:'"
      ]
     },
     "metadata": {},
     "output_type": "display_data"
    },
    {
     "data": {
      "text/plain": [
       "array([[4.9, 3.1],\n",
       "       [4.4, 3. ],\n",
       "       [5.7, 4.4],\n",
       "       [5.5, 4.2],\n",
       "       [4.9, 3.1]])"
      ]
     },
     "metadata": {},
     "output_type": "display_data"
    },
    {
     "name": "stdout",
     "output_type": "stream",
     "text": [
      "Y: [0 0 0 0 0]\n"
     ]
    }
   ],
   "source": [
    "if __name__ == '__main__':\n",
    "    # Pega os valores das n-1 primeiras colunas e guarda em uma matrix X\n",
    "    X = df_dataset.iloc[:, 0:-1].values \n",
    "    \n",
    "    # Pega os valores da ultima coluna e guarda em um vetor Y\n",
    "    Y = df_dataset.iloc[:, -1].values \n",
    "    \n",
    "    # Imprime as 5 primeiras linhas da matriz X\n",
    "    display('X:', X[0:5,:])\n",
    "    \n",
    "    # Imprime os 5 primeiros valores de Y\n",
    "    print('Y:', Y[0:5])"
   ]
  },
  {
   "cell_type": "markdown",
   "metadata": {
    "nbpresent": {
     "id": "e22583ed-a7a5-4a8f-945f-4342b5ca4523"
    }
   },
   "source": [
    "Agora, vamos criar uma função para plotar os dados."
   ]
  },
  {
   "cell_type": "code",
   "execution_count": 4,
   "metadata": {
    "nbpresent": {
     "id": "4c0492d9-4630-45c6-acaf-83d4cb4696ed"
    }
   },
   "outputs": [
    {
     "data": {
      "image/png": "[encoded data removed]",
      "text/plain": [
       "<Figure size 720x432 with 1 Axes>"
      ]
     },
     "metadata": {
      "needs_background": "light"
     },
     "output_type": "display_data"
    }
   ],
   "source": [
    "if __name__ == \"__main__\":\n",
    "    # Importando a biblioteca matplotlib\n",
    "    import matplotlib.pyplot as plt\n",
    "    \n",
    "# Criando a função para plotar os dados\n",
    "def visualizarDados(X,Y, nome_classe0, nome_classe1):        \n",
    "    \"\"\"\n",
    "    Função usada para plotar os dados\n",
    "    \"\"\"\n",
    "        \n",
    "    # definindo o tamanho da figura \n",
    "    plt.figure(figsize=(10,6))\n",
    "\n",
    "    # plota os dados da classe 0\n",
    "    plt.scatter( X[Y==0,0], X[Y==0,1], label=nome_classe0, marker='o', color='red', s=80) \n",
    "\n",
    "    # plota os dados da classe 1\n",
    "    plt.scatter( X[Y==1,0], X[Y==1,1], label=nome_classe1, marker='+', color='blue', s=80) \n",
    "\n",
    "    # define os nomes dos eixos x e y\n",
    "    plt.xlabel(r'Comprimento da petala',fontsize='medium') \n",
    "    plt.ylabel(r'Largura da petala',fontsize='medium') \n",
    "\n",
    "    # plota a legenda\n",
    "    plt.legend()\n",
    "\n",
    "    # define o título do gráfico\n",
    "    plt.title('Plot 2D da base de dados Iris', fontsize='x-large')\n",
    "\n",
    "    \n",
    "if __name__ == '__main__':\n",
    "    # Chamando a função que plota os dados   \n",
    "    visualizarDados(X,Y, 'Iris Setosa', 'Iris Versicolour')\n",
    "\n",
    "    # exibe o grafico\n",
    "    plt.show()"
   ]
  },
  {
   "cell_type": "markdown",
   "metadata": {
    "nbpresent": {
     "id": "d8183ff0-4a56-4209-bd1e-04379658d23b"
    }
   },
   "source": [
    "Como a distância entre as amostras pode ser influenciada pela escala\n",
    "dos atributos, é recomendável que os atributos sejam normalizados de\n",
    "forma que a média ($\\mu$) seja igual a 0 e desvio padrão ($\\sigma$) igual a 1. Complete \n",
    "a função abaixo, responsável por normalizar os dados."
   ]
  },
  {
   "cell_type": "code",
   "execution_count": 5,
   "metadata": {
    "nbpresent": {
     "id": "521de916-1c6f-48d5-9109-d13519ca5e81"
    },
    "scrolled": true
   },
   "outputs": [],
   "source": [
    "def normalizar(X):\n",
    "    \"\"\"\n",
    "    Normaliza os atributos em X\n",
    "    \n",
    "    Esta função retorna uma versao normalizada de X onde o valor da\n",
    "    média de cada atributo é igual a 0 e desvio padrao é igual a 1. Trata-se de\n",
    "    um importante passo de pré-processamento quando trabalha-se com \n",
    "    métodos de aprendizado de máquina.\n",
    "    \"\"\"\n",
    "    \n",
    "    m, n = X.shape # m = qtde de objetos e n = qtde de atributos por objeto\n",
    "    \n",
    "    # Inicializa as variaves de saída\n",
    "    X_norm = np.zeros( (m,n) ) #inicializa X_norm (base normalizada)\n",
    "    mu = 0 # inicializa a média\n",
    "    sigma = 1 # inicializa o desvio padrão\n",
    "    \n",
    "    ########################## COMPLETE O CÓDIGO AQUI  ########################\n",
    "    # Instruções: Calcule a média de cada atributo de X e armazene em mu. Note\n",
    "    #          que se X for uma matriz (m x n), então mu terá que ser um\n",
    "    #          vetor (1 x n), no qual cada coluna de mu deverá conter o \n",
    "    #          valor da média de cada um dos n atributos. O mesmo deverá ser\n",
    "    #          feito para o desvio padrão, que deverá ser armazenado em\n",
    "    #          sigma. \n",
    "    #          Sugestão: use as funções mean e std da biblioteca numpy para  \n",
    "    #                    calcular a média e o desvio padrão, respectivamente.\n",
    "    #                    Se você for usar a função do Numpy para calcular o \n",
    "    #                    desvio padrão, não se esqueça de usar o parâmetro ddof=1 \n",
    "    #                    para fazer a correção de Bessel         \n",
    "    #          Uma vez encontrados os valores de mu e de sigma, calcule o\n",
    "    #          valor do atributo X normalizado. Para isso, para cada amostra\n",
    "    #          x_i de X será necessário calcular (x_i - mu)/sigma e\n",
    "    #          armazenar em X_norm (base de dados normalizada).\n",
    "    mu = np.mean(X, axis=0)\n",
    "    sigma = np.std(X, axis = 0,ddof=1)\n",
    "\n",
    "    for i in range(m):\n",
    "         X_norm[i:] = (X[i:]-mu)/sigma   \n",
    "    \n",
    "    \n",
    "    \n",
    "    \n",
    "    \n",
    "    \n",
    "    \n",
    "    \n",
    "    \n",
    "    \n",
    "        \n",
    "    \n",
    "    ##########################################################################\n",
    "    \n",
    "    return X_norm, mu, sigma\n"
   ]
  },
  {
   "cell_type": "code",
   "execution_count": 6,
   "metadata": {},
   "outputs": [
    {
     "name": "stdout",
     "output_type": "stream",
     "text": [
      "\n",
      "Primeira amostra da base antes da normalização: [4.9000 3.1000].\n",
      "\n",
      "Após a normalização, espera-se que a primeira amostra seja igual a: [-0.8615 0.0326].\n",
      "\n",
      "Primeira amostra da base apos normalização: [-0.8615 0.0326].\n"
     ]
    }
   ],
   "source": [
    "if __name__ == '__main__':\n",
    "    # Chama a função para normalizar X\n",
    "    X_norm, mu, sigma = normalizar(X)\n",
    "    \n",
    "    print('\\nPrimeira amostra da base antes da normalização: [%2.4f %2.4f].' %(X[0,0],X[0,1]))\n",
    "    print('\\nApós a normalização, espera-se que a primeira amostra seja igual a: [-0.8615 0.0326].')\n",
    "    print('\\nPrimeira amostra da base apos normalização: [%2.4f %2.4f].' %(X_norm[0,0],X_norm[0,1]))"
   ]
  },
  {
   "cell_type": "markdown",
   "metadata": {
    "nbpresent": {
     "id": "f2f1d8f8-8fab-47c2-960a-56965c88414f"
    }
   },
   "source": [
    "## Parte 2: Cria um novo caso de teste\n",
    "\n",
    "Abaixo, será criado um novo caso de teste para ser classificado."
   ]
  },
  {
   "cell_type": "code",
   "execution_count": 7,
   "metadata": {
    "nbpresent": {
     "id": "ba149ed3-978b-47a5-9d8b-1e7f9cc14efa"
    }
   },
   "outputs": [],
   "source": [
    "if __name__ == '__main__':\n",
    "    # Definicao do primeiro caso de teste.\n",
    "    x_teste = np.array(([[5.5, 3.2]])) # Você pode testar outros valores aqui"
   ]
  },
  {
   "cell_type": "markdown",
   "metadata": {
    "nbpresent": {
     "id": "d7c3f803-40da-4351-a4c6-6092654c11d0"
    }
   },
   "source": [
    "Vamos plotar essa amostra."
   ]
  },
  {
   "cell_type": "code",
   "execution_count": 8,
   "metadata": {
    "nbpresent": {
     "id": "0912047e-511e-4265-a675-937f69961287"
    }
   },
   "outputs": [
    {
     "name": "stdout",
     "output_type": "stream",
     "text": [
      "Plotanto caso de teste: [5.5000 3.2000] (quadrado verde do grafico). \n",
      "\n"
     ]
    },
    {
     "data": {
      "image/png": "[encoded data removed]",
      "text/plain": [
       "<Figure size 720x432 with 1 Axes>"
      ]
     },
     "metadata": {
      "needs_background": "light"
     },
     "output_type": "display_data"
    }
   ],
   "source": [
    "if __name__ == '__main__':\n",
    "    print('Plotanto caso de teste: [%2.4f %2.4f] (quadrado verde do grafico). \\n' %(x_teste[0,0],x_teste[0,1]))\n",
    "\n",
    "    # Plotando os dados de treinamento \n",
    "    visualizarDados(X,Y, 'Iris Setosa', 'Iris Versicolour')\n",
    "\n",
    "    # Visualizando o caso de teste junto com os dados de treinamento\n",
    "    plt.scatter( x_teste[0,0], x_teste[0,1], marker='s', color='green', s=80)\n",
    "\n",
    "    # exibe o grafico\n",
    "    plt.show()"
   ]
  },
  {
   "cell_type": "markdown",
   "metadata": {
    "nbpresent": {
     "id": "52e62aa9-4564-4907-a072-b4900b93aade"
    }
   },
   "source": [
    "Agora, vamos normalizar o caso de teste usando os valores de $\\mu$ e $\\sigma$ já calculados."
   ]
  },
  {
   "cell_type": "code",
   "execution_count": 9,
   "metadata": {
    "nbpresent": {
     "id": "13b33947-7b02-4c21-a346-3f170f91b1f7"
    }
   },
   "outputs": [
    {
     "name": "stdout",
     "output_type": "stream",
     "text": [
      "\n",
      "Após a normalização, espera-se que a amostra de teste seja igual a: [0.0489 0.2422].\n",
      "\n",
      "Amostra de teste normalizada: [0.0489 0.2422].\n"
     ]
    }
   ],
   "source": [
    "if __name__ == '__main__':\n",
    "    # Normaliza o caso de teste usando os valores de mu e sigma pre-calculados\n",
    "    x_teste_norm = (x_teste-mu) / sigma\n",
    "    \n",
    "    print('\\nApós a normalização, espera-se que a amostra de teste seja igual a: [0.0489 0.2422].')\n",
    "    print('\\nAmostra de teste normalizada: [%2.4f %2.4f].' %(x_teste_norm[0,0],x_teste_norm[0,1]))"
   ]
  },
  {
   "cell_type": "markdown",
   "metadata": {
    "nbpresent": {
     "id": "1d821246-7fdb-47f8-afa8-009a642b5d2e"
    }
   },
   "source": [
    "## Parte 3: Método dos $k$-vizinhos mais próximos\n",
    "\n",
    "Nesta etapa, o método dos $k$-vizinhos deverá ser implementado e testado\n",
    "  para predizer a classe de uma nova amostra. Primeiro, você deverá\n",
    "  completar a função que calcula a distância Euclidiana entre dois\n",
    "  vetores quaisquer ( <tt>distancia()</tt> ) e, posteriormente, o código referente ao\n",
    "  metodo do $k$-NN ( <tt>knn()</tt> ).\n",
    "  \n",
    "A distância Euclidiana é calculada usando a seguinte equação: $dist(x,y) = \\sqrt{\\sum_{i=1}^{n} (x_i-y_i)^2}$.\n",
    "\n",
    "A equação mostrada acima, também pode ser definida da seguinta forma: $dist(x,y) = \\left\\Vert x-y \\right\\Vert_2$.\n",
    "\n",
    "Nas equações mostradas acima, $x$ e $y$ são vetores que possuem a mesma dimensão ($n$).\n",
    "\n",
    "Abaixo, você deverá completa a função de distância. Essa função deverá calcular a distância entre $x$ e cada amostra de $X^{(i)}$. Portanto, você pode usar um laço de repetição para calcular o valor em relação a cada $X^{(i)}, i \\in {1...m}$."
   ]
  },
  {
   "cell_type": "code",
   "execution_count": 10,
   "metadata": {
    "nbpresent": {
     "id": "3a819928-e38c-4763-8d35-ed33e45ccb0d"
    }
   },
   "outputs": [],
   "source": [
    "def distancia(x, X):\n",
    "    \"\"\"\n",
    "    Retorna um vetor de distâncias entre a amostra x \n",
    "    e todas as amostras da base X. Cada posição Di = dist(x, Xi).\n",
    "    \"\"\"\n",
    "    \n",
    "    # Inicializa a variável de retorno e algumas variáveis úteis\n",
    "    \n",
    "    m = X.shape[0] # Quantidade de objetos em X\n",
    "    D = np.zeros(m) # Inicializa a matriz de distâncias D\n",
    "\n",
    "    ########################## COMPLETE O CÓDIGO AQUI  ########################\n",
    "    # Instruções: Teoricamente, você poderia usar qualquer função de \n",
    "    #          distancia. Porém, para este exercicio, é necessário usar a \n",
    "    #          distância Euclidiana (funcao norm).\n",
    "    # \n",
    "    # Obs: use um loop-for para calcular a distância entre o objeto x e cada\n",
    "    #   amostra Xi de X. O vetor D deverá ter o mesmo número de linhas de X.\n",
    "    #\n",
    "\n",
    "    for i in range(m):\n",
    "        D[i] = np.linalg.norm(x-X[i])\n",
    "    \n",
    "    \n",
    "    \n",
    "    \n",
    "    \n",
    "    ##########################################################################\n",
    "    \n",
    "    return D"
   ]
  },
  {
   "cell_type": "markdown",
   "metadata": {
    "nbpresent": {
     "id": "883d5dc8-9fa8-4346-abf9-6e4ce493047f"
    }
   },
   "source": [
    "A função criada acima será usada para calcular as distâncias $D$. Depois, é necessário encontrar os $K$ menores valores de $D$, que correspondem aos objetos (vizinhos) mais próximos da amostra de teste. É preciso selecionar a classe majoritária entre as $K$ amostras da base de dados e, então, usar essa classe para rotular a amostra de teste ($y$). Adicionalmente, você precisará retornar os índices $ind\\_viz_{(K \\times 1)}$ correspondentes às posições (linhas) dos $K$-vizinhos encontrados em $X$.\n",
    "\n",
    "Agora, complete a função que calcula o $k$-NN.\n",
    "\n",
    "\n",
    "**Dica**: \n",
    "* chame a função **distancia()** que você criou anteriormente para calcular a distancia entre a amostra $x$ e todas as amostras de treinamento $X$."
   ]
  },
  {
   "cell_type": "code",
   "execution_count": 11,
   "metadata": {
    "nbpresent": {
     "id": "62fb5523-b495-4e5e-b880-4e30d2edebbe"
    }
   },
   "outputs": [],
   "source": [
    "def knn(x, X, Y, K):\n",
    "    \"\"\"\n",
    "    Esta função usa o método dos K-vizinhos mais proximos para predizer a classe de um novo\n",
    "        dado. Ela retorna o rótulo y da amostra x e os índices\n",
    "        [ind_viz] dos K-vizinhos mais próximos de x em X.\n",
    " \n",
    "        Parâmetros de entrada:\n",
    "        -> x (1 x n): amostra a ser classificada\n",
    "        -> X (m x n): base de dados de treinamento\n",
    "        -> Y (m x 1): conjunto de rótulos de cada amostra de X\n",
    "        -> K (1 x 1): quantidade de vizinhos mais próximos\n",
    " \n",
    "        Parâmetros de saída:\n",
    "        -> y (1 x 1): predição (0 ou 1) do rótulo da amostra x\n",
    "        -> ind_viz (K x 1): índice das K amostras mais próximas de x\n",
    "                            encontradas em X (da mais próxima para a menos\n",
    "                            próxima)\n",
    "    \"\"\"\n",
    "    \n",
    "    # Inicializa a variável de retorno e algumas variáveis uteis\n",
    "    y = 0 # Inicializa rótulo como sendo da classe negativa\n",
    "    ind_viz = np.ones(K, dtype=int) # Inicializa índices (linhas) em X das K amostras mais \n",
    "                         # próximas de x.\n",
    "        \n",
    "\n",
    "    ########################## COMPLETE O CÓDIGO AQUI  ########################\n",
    "    # Instruções: Implemente o método dos K-vizinhos mais próximos. Primeiro, \n",
    "    #         é preciso calcular a distância entre x e cada amostra de X. \n",
    "    #         Depois, encontre os K-vizinhos mais próximos e use voto\n",
    "    #         majoritário para definir o rótulo de x. \n",
    "    #\n",
    "    # Obs: primeiro é necessario implementar a função de distância Euclidiana\n",
    "    #     (distancia).\n",
    "    #\n",
    "    dist = distancia(x,X)\n",
    "    n = len(pd.unique(Y))\n",
    "    #aux = np.argpartition(dist, K)\n",
    "    aux = dist.argsort()\n",
    "    ind_viz = aux[:K]\n",
    "\n",
    "    aux_k = np.zeros(n)\n",
    "    for i in range(K):\n",
    "        j= Y[ind_viz[i]]\n",
    "        aux_k[j]+=1\n",
    "\n",
    "    y = aux_k.argmax()\n",
    "    \n",
    "    \n",
    "    ##########################################################################\n",
    "    \n",
    "    return y, ind_viz"
   ]
  },
  {
   "cell_type": "markdown",
   "metadata": {
    "nbpresent": {
     "id": "5bb869a9-a603-4c92-beda-67868d41ca38"
    }
   },
   "source": [
    "Agora, vamos testar o $k$-NN. No código abaixo, você poderá alterar a quantidade de vizinhos (<tt>K</tt>)."
   ]
  },
  {
   "cell_type": "code",
   "execution_count": 12,
   "metadata": {
    "nbpresent": {
     "id": "289c9a1e-0e73-4a75-8959-e84381fb8387"
    }
   },
   "outputs": [
    {
     "name": "stdout",
     "output_type": "stream",
     "text": [
      "\n",
      "Para K=1, a resposta esperada seria: Classe 0 ==> Iris Versicolour.\n",
      "\n",
      "Segundo o KNN, a amostra de teste foi classificada como:\n",
      "\tClasse 0 ==> Iris Versicolour.\n",
      "\n"
     ]
    }
   ],
   "source": [
    "if __name__ == '__main__':\n",
    "    # Define o caso de teste\n",
    "    x_teste = np.array(([[5.5, 3.2]])) # Você pode testar outros valores aqui\n",
    "\n",
    "    # Define a quantidade de vizinhos. Recomenda-se que seja ímpar (1, 3, ou 5)\n",
    "    K = 1 # Você pode testar outros valores aqui\n",
    "\n",
    "    # Normaliza o caso de teste usando os valores de mu e sigma pre-calculados\n",
    "    x_teste_norm = (x_teste-mu) / sigma\n",
    "\n",
    "    # Chama o algoritmo do k-vizinhos para predizer o rótulo da amostra de teste.\n",
    "    y, ind_viz = knn(x_teste_norm, X_norm, Y, K)\n",
    "\n",
    "    # Exibe o rótulo da amostra de teste esperado para K=1\n",
    "    print('\\nPara K=1, a resposta esperada seria: Classe 0 ==> Iris Versicolour.\\n')\n",
    "\n",
    "    # Exibe o rótulo da amostra de teste retornado pelo algoritmo KNN\n",
    "    print('Segundo o KNN, a amostra de teste foi classificada como:')\n",
    "\n",
    "    # Imprime a espécie da planta de acordo com o rótulo informado\n",
    "    if y == 0:\n",
    "        print('\\tClasse 0 ==> Iris Versicolour.\\n')\n",
    "    else:\n",
    "        print('\\tClasse 1 ==> Iris Setosa.\\n')"
   ]
  },
  {
   "cell_type": "markdown",
   "metadata": {
    "nbpresent": {
     "id": "ccb95a8b-48e3-4c8e-816b-25030fa2c3c1"
    }
   },
   "source": [
    "É interessante notar que a alteração no valor de $K$ no código acima, pode alterar a classe predita pelo classificador. Para $K=1$, a amostra de teste é classificada como Iris Versicolour. Porém, para $K=3$ ou $K=5$, a amostra de teste é classificada como Iris Setosa.\n",
    "\n",
    "Agora, vamos plotar o(s) $k$-vizinho(s) mais próximo(s) usado(s) na classificação."
   ]
  },
  {
   "cell_type": "code",
   "execution_count": 13,
   "metadata": {
    "nbpresent": {
     "id": "8352eb00-4f87-4e04-aec7-b8575c0ddf21"
    }
   },
   "outputs": [
    {
     "name": "stdout",
     "output_type": "stream",
     "text": [
      "\n",
      "Plotanto o(s) 1-vizinho(s) mais próximo(s) usado(s) na classificação.\n",
      "\n",
      "\n"
     ]
    },
    {
     "data": {
      "image/png": "[encoded data removed]",
      "text/plain": [
       "<Figure size 720x432 with 1 Axes>"
      ]
     },
     "metadata": {
      "needs_background": "light"
     },
     "output_type": "display_data"
    }
   ],
   "source": [
    "if __name__ == '__main__':\n",
    "    print('\\nPlotanto o(s) %d-vizinho(s) mais próximo(s) usado(s) na classificação.\\n\\n' %K)\n",
    "\n",
    "    # Plotando os dados de treinamento \n",
    "    visualizarDados(X,Y, 'Iris Versicolour', 'Iris Setosa')\n",
    "\n",
    "    # Visualizando o caso de teste junto com os dados de treinamento\n",
    "    plt.scatter( x_teste[0,0], x_teste[0,1], marker='s', color='green', s=80)\n",
    "\n",
    "    for i in range(K):\n",
    "        if Y[ind_viz[i]]==0:\n",
    "            plt.scatter( X[ind_viz[i],0], X[ind_viz[i],1], label=\"Iris Versicolour\", marker='o', color='black', s=80)\n",
    "        else:\n",
    "            plt.scatter( X[ind_viz[i],0], X[ind_viz[i],1], label=\"Iris Setosa\", marker='+', color='black', s=80) \n",
    "\n",
    "    plt.show()"
   ]
  },
  {
   "cell_type": "markdown",
   "metadata": {},
   "source": [
    "Vamos dar uma olhada na superfície de decisão aprendida pelo KNN. Troque o valor de $K$ para ver diferentes superficies de decisão."
   ]
  },
  {
   "cell_type": "code",
   "execution_count": 14,
   "metadata": {},
   "outputs": [
    {
     "data": {
      "image/png": "[encoded data removed]",
      "text/plain": [
       "<Figure size 576x576 with 1 Axes>"
      ]
     },
     "metadata": {
      "needs_background": "light"
     },
     "output_type": "display_data"
    }
   ],
   "source": [
    "def plota_superficieDecisao(X, Y, K, ax, title = \"\"):\n",
    "    h = .05  # tamanho do passo da malha (mesh)\n",
    "\n",
    "    # cria uma malha (mesh)\n",
    "    x_min, x_max = X[:, 0].min() - 0.3, X[:, 0].max() + 0.3\n",
    "    y_min, y_max = X[:, 1].min() - 0.3, X[:, 1].max() + 0.3\n",
    "    xx, yy = np.meshgrid(np.arange(x_min, x_max, h),\n",
    "                         np.arange(y_min, y_max, h))\n",
    "\n",
    "\n",
    "    X_teste = np.c_[xx.ravel(), yy.ravel()] \n",
    "\n",
    "    Z = np.zeros( X_teste.shape[0] )\n",
    "    for i in range( X_teste.shape[0] ):\n",
    "\n",
    "        # Chama o algoritmo do k-vizinhos para predizer o rótulo da amostra de teste.\n",
    "        Z[i], ind_viz = knn(X_teste[i], X, Y, K)\n",
    "\n",
    "    # converte os valores do vetor para indices\n",
    "    Z2 = np.unique(Z, return_inverse=True)[1]\n",
    "\n",
    "    # plota a superficie de decisao\n",
    "    Z2 = Z2.reshape(xx.shape)\n",
    "    ax.contourf(xx, yy, Z2, cmap=plt.cm.Paired, alpha=.4)\n",
    "\n",
    "    # converte os valores do vetor para indices\n",
    "    Y2 = np.unique(Y, return_inverse=True)[1]\n",
    "\n",
    "    # plota os dados de treinamento\n",
    "    ax.scatter(X[:, 0], X[:, 1], c=Y2, edgecolor='k', s=50)\n",
    "\n",
    "    ax.set_xlim(xx.min(), xx.max())\n",
    "    ax.set_ylim(yy.min(), yy.max())\n",
    "    ax.set_title(title, fontsize='large')\n",
    "\n",
    "    \n",
    "if __name__ == '__main__':\n",
    "    # define o tamanho da figura\n",
    "    fig, ax = plt.subplots(figsize=(8, 8)) \n",
    "\n",
    "    # seta o numero de vizinhos\n",
    "    K=89\n",
    "\n",
    "    # chama a funcao para plotar a superficie de decisao juntamente com os dados de teste\n",
    "    plota_superficieDecisao(X_norm, Y, K, ax, title = \"Superficie de decisao do KNN\")\n",
    "\n",
    "    plt.show()"
   ]
  },
  {
   "cell_type": "markdown",
   "metadata": {
    "nbpresent": {
     "id": "3a76c781-ae0a-450e-aa6c-de1e8515749d"
    }
   },
   "source": [
    "## Parte 4: Exemplo usando outra base de dados\n",
    "\n",
    "Agora, vamos testar o método com um exemplo mais complexo (_Virginica_ x _Versicolor_). "
   ]
  },
  {
   "cell_type": "code",
   "execution_count": 15,
   "metadata": {
    "nbpresent": {
     "id": "d1e6cb26-f0a3-42cd-9f5e-9e34dc173e5f"
    }
   },
   "outputs": [
    {
     "data": {
      "text/html": [
       "<div>\n",
       "<style scoped>\n",
       "    .dataframe tbody tr th:only-of-type {\n",
       "        vertical-align: middle;\n",
       "    }\n",
       "\n",
       "    .dataframe tbody tr th {\n",
       "        vertical-align: top;\n",
       "    }\n",
       "\n",
       "    .dataframe thead th {\n",
       "        text-align: right;\n",
       "    }\n",
       "</style>\n",
       "<table border=\"1\" class=\"dataframe\">\n",
       "  <thead>\n",
       "    <tr style=\"text-align: right;\">\n",
       "      <th></th>\n",
       "      <th>largura_petala</th>\n",
       "      <th>comprimento_petala</th>\n",
       "      <th>classe</th>\n",
       "    </tr>\n",
       "  </thead>\n",
       "  <tbody>\n",
       "    <tr>\n",
       "      <th>0</th>\n",
       "      <td>4.9</td>\n",
       "      <td>3.1</td>\n",
       "      <td>0</td>\n",
       "    </tr>\n",
       "    <tr>\n",
       "      <th>1</th>\n",
       "      <td>4.4</td>\n",
       "      <td>3.0</td>\n",
       "      <td>0</td>\n",
       "    </tr>\n",
       "    <tr>\n",
       "      <th>2</th>\n",
       "      <td>5.7</td>\n",
       "      <td>4.4</td>\n",
       "      <td>0</td>\n",
       "    </tr>\n",
       "    <tr>\n",
       "      <th>3</th>\n",
       "      <td>5.5</td>\n",
       "      <td>4.2</td>\n",
       "      <td>0</td>\n",
       "    </tr>\n",
       "    <tr>\n",
       "      <th>4</th>\n",
       "      <td>4.9</td>\n",
       "      <td>3.1</td>\n",
       "      <td>0</td>\n",
       "    </tr>\n",
       "  </tbody>\n",
       "</table>\n",
       "</div>"
      ],
      "text/plain": [
       "   largura_petala  comprimento_petala  classe\n",
       "0             4.9                 3.1       0\n",
       "1             4.4                 3.0       0\n",
       "2             5.7                 4.4       0\n",
       "3             5.5                 4.2       0\n",
       "4             4.9                 3.1       0"
      ]
     },
     "metadata": {},
     "output_type": "display_data"
    }
   ],
   "source": [
    "if __name__ == '__main__':\n",
    "    # Importa o arquivo e guarda em um dataframe do Pandas\n",
    "    df_dataset2 = pd.read_csv( os.path.join(FILES_DIRECTORY, 'dados2.csv'), sep=',', index_col=None) \n",
    "\n",
    "    # Imprimindo as cinco primeiras amostras\n",
    "    display(df_dataset.head(n=5))"
   ]
  },
  {
   "cell_type": "markdown",
   "metadata": {
    "nbpresent": {
     "id": "5d44f1e1-6deb-436c-a76d-5b6be7f2b098"
    }
   },
   "source": [
    "Novamente, vamos guardar os dados dentro de uma matriz e as classes dentro de um vetor. As cinco primeiras amostras serão exibidas."
   ]
  },
  {
   "cell_type": "code",
   "execution_count": 16,
   "metadata": {
    "nbpresent": {
     "id": "d119b7a9-c34a-4047-8848-00babba28de4"
    }
   },
   "outputs": [
    {
     "data": {
      "text/plain": [
       "'X2:'"
      ]
     },
     "metadata": {},
     "output_type": "display_data"
    },
    {
     "data": {
      "text/plain": [
       "array([[4.9, 3.1],\n",
       "       [4.4, 3. ],\n",
       "       [5.7, 4.4],\n",
       "       [5.5, 4.2],\n",
       "       [4.9, 3.1]])"
      ]
     },
     "metadata": {},
     "output_type": "display_data"
    },
    {
     "name": "stdout",
     "output_type": "stream",
     "text": [
      "Y2: [0 0 0 0 0]\n"
     ]
    }
   ],
   "source": [
    "if __name__ == '__main__':\n",
    "    # Pega os valores das n-1 primeiras colunas e guarda em uma matrix X\n",
    "    X2 = df_dataset2.iloc[:, 0:-1].values \n",
    "\n",
    "    # Pega os valores da última coluna e guarda em um vetor Y\n",
    "    Y2 = df_dataset2.iloc[:, -1].values \n",
    "\n",
    "    # Imprime as 5 primeiras linhas da matriz X\n",
    "    display('X2:', X[0:5,:])\n",
    "\n",
    "    # Imprime os 5 primeiros valores de Y\n",
    "    print('Y2:', Y[0:5])"
   ]
  },
  {
   "cell_type": "markdown",
   "metadata": {
    "nbpresent": {
     "id": "1af0b620-17c3-46c3-90af-39f36886c79d"
    }
   },
   "source": [
    "Os dados serão plotados usando a função definida anteriormente."
   ]
  },
  {
   "cell_type": "code",
   "execution_count": 17,
   "metadata": {
    "nbpresent": {
     "id": "7d834dab-b205-453e-b7ed-85d639a45364"
    }
   },
   "outputs": [
    {
     "data": {
      "image/png": "[encoded data removed]",
      "text/plain": [
       "<Figure size 720x432 with 1 Axes>"
      ]
     },
     "metadata": {
      "needs_background": "light"
     },
     "output_type": "display_data"
    }
   ],
   "source": [
    "if __name__ == '__main__':\n",
    "    # Plota a base de dados  \n",
    "    visualizarDados(X2,Y2, 'Iris Versicolour', 'Iris Virginica')\n",
    "\n",
    "    # exibe o grafico\n",
    "    plt.show()"
   ]
  },
  {
   "cell_type": "markdown",
   "metadata": {
    "nbpresent": {
     "id": "f20cda47-caae-44b6-82b3-9b1686481d93"
    }
   },
   "source": [
    "Agora, os dados serão normalizados."
   ]
  },
  {
   "cell_type": "code",
   "execution_count": 18,
   "metadata": {
    "nbpresent": {
     "id": "f54a6e05-5e44-4745-b227-c4bf249ac989"
    }
   },
   "outputs": [],
   "source": [
    "if __name__ == '__main__':\n",
    "    # Função para normalizar X\n",
    "    X2_norm, mu2, sigma2 = normalizar(X2)"
   ]
  },
  {
   "cell_type": "markdown",
   "metadata": {
    "nbpresent": {
     "id": "32e1e8dc-6c54-4130-af29-ef6b040bfb2e"
    }
   },
   "source": [
    "Agora, vamos criar manualmente um novo caso de teste."
   ]
  },
  {
   "cell_type": "code",
   "execution_count": 19,
   "metadata": {
    "nbpresent": {
     "id": "52196d2b-ec4a-4b45-92d7-bce2d09cc799"
    }
   },
   "outputs": [],
   "source": [
    "if __name__ == '__main__':\n",
    "    # Definição de um novo caso de teste\n",
    "    x2_teste = np.array(([[5.90, 2.84]])) # Você pode testar outros valores aqui"
   ]
  },
  {
   "cell_type": "markdown",
   "metadata": {
    "nbpresent": {
     "id": "06cd6948-5a05-43a6-ba31-1392728ba072"
    }
   },
   "source": [
    "Plotando o caso de teste junto aos dados de treinamento."
   ]
  },
  {
   "cell_type": "code",
   "execution_count": 20,
   "metadata": {
    "nbpresent": {
     "id": "06fe310c-bbac-423f-9dc1-ecefe1ef8473"
    }
   },
   "outputs": [
    {
     "name": "stdout",
     "output_type": "stream",
     "text": [
      "\n",
      "Plotanto caso de teste: [5.9000 2.8400].\n",
      "\n"
     ]
    },
    {
     "data": {
      "image/png": "[encoded data removed]",
      "text/plain": [
       "<Figure size 720x432 with 1 Axes>"
      ]
     },
     "metadata": {
      "needs_background": "light"
     },
     "output_type": "display_data"
    }
   ],
   "source": [
    "if __name__ == '__main__':\n",
    "    print('\\nPlotanto caso de teste: [%2.4f %2.4f].\\n' %(x2_teste[0,0],x2_teste[0,1]))\n",
    "\n",
    "    # Plotando os dados de treinamento \n",
    "    visualizarDados(X2,Y2, 'Iris Versicolour', 'Iris Virginica')\n",
    "\n",
    "    # Visualizando o caso de teste junto com os dados de treinamento\n",
    "    plt.scatter( x2_teste[0,0], x2_teste[0,1], marker='s', color='green', s=80)\n",
    "    plt.show()"
   ]
  },
  {
   "cell_type": "markdown",
   "metadata": {
    "nbpresent": {
     "id": "6ec7bd77-c192-4954-aafa-8935d0a60438"
    }
   },
   "source": [
    " A seguir, a amostra de teste será normalizada usando o valor de $\\mu$ e $\\sigma$ calculados com a base nos dados de treinamento."
   ]
  },
  {
   "cell_type": "code",
   "execution_count": 21,
   "metadata": {
    "nbpresent": {
     "id": "0fc7582f-ae73-4f29-b64e-183daed9738e"
    }
   },
   "outputs": [],
   "source": [
    "if __name__ == '__main__':\n",
    "    # Normaliza o caso de teste usando o valor de mu e sigma pré-calculado\n",
    "    x2_teste_norm = (x2_teste-mu2) / sigma2"
   ]
  },
  {
   "cell_type": "markdown",
   "metadata": {
    "nbpresent": {
     "id": "0113bb3c-1bfe-48de-8d33-5955d163f5c1"
    }
   },
   "source": [
    "Finalmente, o $k$-NN é empregado para predizer a classe da amostra de teste. No código abaixo, você poderá alterar a quantidade de vizinhos (<tt>K</tt>)."
   ]
  },
  {
   "cell_type": "code",
   "execution_count": 22,
   "metadata": {
    "nbpresent": {
     "id": "3a7c8ef8-91aa-4832-a095-e6db6167c3ea"
    }
   },
   "outputs": [
    {
     "data": {
      "text/plain": [
       "array([61, 25, 20, 18, 46,  2, 10, 43, 30, 14], dtype=int64)"
      ]
     },
     "metadata": {},
     "output_type": "display_data"
    },
    {
     "name": "stdout",
     "output_type": "stream",
     "text": [
      "\n",
      "Segundo o KNN, a amostra de teste será classificada como:\n",
      "\tClasse 1 ==> Iris Virginica.\n",
      "\n"
     ]
    }
   ],
   "source": [
    "if __name__ == '__main__':\n",
    "    # Define a quantidade de vizinhos. Recomenda-se que seja ímpar (1, 3, ou 5)\n",
    "    K = 10 # Vocé pode testar outros valores aqui\n",
    "\n",
    "    # Chama o algoritmo do k-vizinhos para predizer o rótulo da amostra teste.\n",
    "    y2, ind_viz2 = knn(x2_teste_norm, X2_norm, Y2, K)\n",
    "    display(ind_viz2)\n",
    "\n",
    "    # Exibe o rótulo da amostra de teste retornado pelo algoritmo KNN\n",
    "    print('\\nSegundo o KNN, a amostra de teste será classificada como:')\n",
    "\n",
    "    # Imprime a espécie da planta de acordo com o rótulo informado\n",
    "    if y2 == 0:\n",
    "        print('\\tClasse 0 ==> Iris Versicolour.\\n')\n",
    "    else:\n",
    "        print('\\tClasse 1 ==> Iris Virginica.\\n')"
   ]
  },
  {
   "cell_type": "markdown",
   "metadata": {
    "nbpresent": {
     "id": "64993e59-aaa8-4be5-9c41-bd345f99efc6"
    }
   },
   "source": [
    "Note que a alteração no valor de $K$ no código acima, altera a classe predita pelo classificador. Para $K=1$, a amostra de teste é classificado como Iris Versicolour. Porém, para $K=3$ ou $K=5$, a amostra de teste é classificada como Iris Virginica.\n",
    "\n",
    "Em seguida, vamos plotar o(s) vizinho(s) mais próximo(s) usado(s) na classificação."
   ]
  },
  {
   "cell_type": "code",
   "execution_count": 23,
   "metadata": {
    "nbpresent": {
     "id": "036fb35e-2707-48e7-ba3d-35cf3949d540"
    }
   },
   "outputs": [
    {
     "name": "stdout",
     "output_type": "stream",
     "text": [
      "\n",
      "Plotanto o(s) 10-vizinho(s) mais próximo(s) usado(s) na classificação.\n",
      "\n",
      "\n"
     ]
    },
    {
     "data": {
      "image/png": "[encoded data removed]",
      "text/plain": [
       "<Figure size 720x432 with 1 Axes>"
      ]
     },
     "metadata": {
      "needs_background": "light"
     },
     "output_type": "display_data"
    }
   ],
   "source": [
    "if __name__ == '__main__':\n",
    "    print('\\nPlotanto o(s) %d-vizinho(s) mais próximo(s) usado(s) na classificação.\\n\\n' %K)\n",
    "\n",
    "    # Plotando os dados de treinamento \n",
    "    visualizarDados(X2_norm,Y2, 'Iris Versicolour', 'Iris Virginica')\n",
    "\n",
    "    # Visualizando o caso de teste junto com os dados de treinamento\n",
    "    plt.scatter( x2_teste_norm[0,0], x2_teste_norm[0,1], marker='s', color='green', s=80)\n",
    "\n",
    "    for i in range(K):\n",
    "        if Y2[ind_viz2[i]]==0:\n",
    "            plt.scatter( X2_norm[ind_viz2[i],0], X2_norm[ind_viz2[i],1], label=\"Iris Versicolour\", marker='o', color='black', s=80)\n",
    "        else:\n",
    "            plt.scatter( X2_norm[ind_viz2[i],0], X2_norm[ind_viz2[i],1], label=\"Iris Virginica\", marker='+', color='black', s=80) \n",
    "\n",
    "    plt.show()"
   ]
  },
  {
   "cell_type": "markdown",
   "metadata": {},
   "source": [
    "Vamos olhar a superfície de decisão gerada pelo classificador. Mude o valor de $K$ para ver diferentes superfícies de decisão. "
   ]
  },
  {
   "cell_type": "code",
   "execution_count": 24,
   "metadata": {},
   "outputs": [
    {
     "data": {
      "image/png": "[encoded data removed]",
      "text/plain": [
       "<Figure size 576x576 with 1 Axes>"
      ]
     },
     "metadata": {
      "needs_background": "light"
     },
     "output_type": "display_data"
    }
   ],
   "source": [
    "if __name__ == '__main__':\n",
    "    # define o tamanho da figura\n",
    "    fig, ax = plt.subplots(figsize=(8, 8)) \n",
    "\n",
    "    K=1\n",
    "\n",
    "    # chama a funcao para plotar a superficie de decisao juntamente com os dados de teste\n",
    "    plota_superficieDecisao(X2_norm, Y2, K, ax, title = \"Superficie de decisao do KNN\")\n",
    "\n",
    "\n",
    "    plt.show()"
   ]
  }
 ],
 "metadata": {
  "kernelspec": {
   "display_name": "Python 3",
   "language": "python",
   "name": "python3"
  },
  "language_info": {
   "codemirror_mode": {
    "name": "ipython",
    "version": 3
   },
   "file_extension": ".py",
   "mimetype": "text/x-python",
   "name": "python",
   "nbconvert_exporter": "python",
   "pygments_lexer": "ipython3",
   "version": "3.9.13"
  },
  "vscode": {
   "interpreter": {
    "hash": "942c2cc7aae2f1c337b8eb87ea1d665c2fe67283610e79f3029d5f90ffb90d8f"
   }
  }
 },
 "nbformat": 4,
 "nbformat_minor": 4
}
